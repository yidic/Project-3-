{
 "cells": [
  {
   "cell_type": "markdown",
   "metadata": {},
   "source": [
    "## Playlist 1 and Playlist 2:"
   ]
  },
  {
   "cell_type": "code",
   "execution_count": 2,
   "metadata": {},
   "outputs": [],
   "source": [
    "import pandas as pd\n"
   ]
  },
  {
   "cell_type": "code",
   "execution_count": 3,
   "metadata": {},
   "outputs": [],
   "source": [
    "play_list1 = pd.read_csv('df_playlist.csv',index_col=0)"
   ]
  },
  {
   "cell_type": "code",
   "execution_count": 4,
   "metadata": {},
   "outputs": [],
   "source": [
    "play_list2 = pd.read_csv('df_playlist1.csv',index_col=0)"
   ]
  },
  {
   "cell_type": "code",
   "execution_count": 5,
   "metadata": {},
   "outputs": [],
   "source": [
    "play_list = [play_list1,play_list2]"
   ]
  },
  {
   "cell_type": "markdown",
   "metadata": {},
   "source": [
    "## Concat both playlists to one playlist:"
   ]
  },
  {
   "cell_type": "code",
   "execution_count": 6,
   "metadata": {},
   "outputs": [],
   "source": [
    "playlist = pd.concat(play_list)"
   ]
  },
  {
   "cell_type": "code",
   "execution_count": 7,
   "metadata": {},
   "outputs": [],
   "source": [
    "playlist.to_csv('final-playlist.csv')"
   ]
  },
  {
   "cell_type": "code",
   "execution_count": 8,
   "metadata": {},
   "outputs": [
    {
     "data": {
      "text/html": [
       "<div>\n",
       "<style scoped>\n",
       "    .dataframe tbody tr th:only-of-type {\n",
       "        vertical-align: middle;\n",
       "    }\n",
       "\n",
       "    .dataframe tbody tr th {\n",
       "        vertical-align: top;\n",
       "    }\n",
       "\n",
       "    .dataframe thead th {\n",
       "        text-align: right;\n",
       "    }\n",
       "</style>\n",
       "<table border=\"1\" class=\"dataframe\">\n",
       "  <thead>\n",
       "    <tr style=\"text-align: right;\">\n",
       "      <th></th>\n",
       "      <th>song</th>\n",
       "      <th>artist</th>\n",
       "      <th>danceability</th>\n",
       "      <th>energy</th>\n",
       "      <th>key</th>\n",
       "      <th>loudness</th>\n",
       "      <th>mode</th>\n",
       "      <th>speechiness</th>\n",
       "      <th>acousticness</th>\n",
       "      <th>instrumentalness</th>\n",
       "      <th>liveness</th>\n",
       "      <th>valence</th>\n",
       "      <th>tempo</th>\n",
       "      <th>type</th>\n",
       "      <th>id</th>\n",
       "      <th>uri</th>\n",
       "      <th>track_href</th>\n",
       "      <th>analysis_url</th>\n",
       "      <th>duration_ms</th>\n",
       "      <th>time_signature</th>\n",
       "    </tr>\n",
       "  </thead>\n",
       "  <tbody>\n",
       "    <tr>\n",
       "      <th>0</th>\n",
       "      <td>Level of Concern</td>\n",
       "      <td>['Twenty One Pilots']</td>\n",
       "      <td>0.754</td>\n",
       "      <td>0.583</td>\n",
       "      <td>4</td>\n",
       "      <td>-7.340</td>\n",
       "      <td>0</td>\n",
       "      <td>0.0432</td>\n",
       "      <td>0.3200</td>\n",
       "      <td>0.000150</td>\n",
       "      <td>0.144</td>\n",
       "      <td>0.770</td>\n",
       "      <td>122.012</td>\n",
       "      <td>audio_features</td>\n",
       "      <td>6xZ4Q2k2ompmDppyeESIY8</td>\n",
       "      <td>spotify:track:6xZ4Q2k2ompmDppyeESIY8</td>\n",
       "      <td>https://api.spotify.com/v1/tracks/6xZ4Q2k2ompm...</td>\n",
       "      <td>https://api.spotify.com/v1/audio-analysis/6xZ4...</td>\n",
       "      <td>220051</td>\n",
       "      <td>4</td>\n",
       "    </tr>\n",
       "    <tr>\n",
       "      <th>1</th>\n",
       "      <td>Level of Concern - live from outside</td>\n",
       "      <td>['Twenty One Pilots']</td>\n",
       "      <td>0.734</td>\n",
       "      <td>0.614</td>\n",
       "      <td>4</td>\n",
       "      <td>-5.452</td>\n",
       "      <td>0</td>\n",
       "      <td>0.0477</td>\n",
       "      <td>0.2910</td>\n",
       "      <td>0.000306</td>\n",
       "      <td>0.120</td>\n",
       "      <td>0.636</td>\n",
       "      <td>121.934</td>\n",
       "      <td>audio_features</td>\n",
       "      <td>4zZyTwwwZFJhRe0oBElIia</td>\n",
       "      <td>spotify:track:4zZyTwwwZFJhRe0oBElIia</td>\n",
       "      <td>https://api.spotify.com/v1/tracks/4zZyTwwwZFJh...</td>\n",
       "      <td>https://api.spotify.com/v1/audio-analysis/4zZy...</td>\n",
       "      <td>222383</td>\n",
       "      <td>4</td>\n",
       "    </tr>\n",
       "    <tr>\n",
       "      <th>2</th>\n",
       "      <td>level of concern (lofi version)</td>\n",
       "      <td>['golden era']</td>\n",
       "      <td>0.793</td>\n",
       "      <td>0.369</td>\n",
       "      <td>7</td>\n",
       "      <td>-13.709</td>\n",
       "      <td>1</td>\n",
       "      <td>0.0357</td>\n",
       "      <td>0.2270</td>\n",
       "      <td>0.844000</td>\n",
       "      <td>0.124</td>\n",
       "      <td>0.400</td>\n",
       "      <td>96.022</td>\n",
       "      <td>audio_features</td>\n",
       "      <td>2mJqy8OwFfnciPhdPPBcE9</td>\n",
       "      <td>spotify:track:2mJqy8OwFfnciPhdPPBcE9</td>\n",
       "      <td>https://api.spotify.com/v1/tracks/2mJqy8OwFfnc...</td>\n",
       "      <td>https://api.spotify.com/v1/audio-analysis/2mJq...</td>\n",
       "      <td>169627</td>\n",
       "      <td>4</td>\n",
       "    </tr>\n",
       "    <tr>\n",
       "      <th>3</th>\n",
       "      <td>Level of Concern</td>\n",
       "      <td>['Calvin Sparks']</td>\n",
       "      <td>0.775</td>\n",
       "      <td>0.784</td>\n",
       "      <td>4</td>\n",
       "      <td>-4.427</td>\n",
       "      <td>0</td>\n",
       "      <td>0.0390</td>\n",
       "      <td>0.3710</td>\n",
       "      <td>0.000278</td>\n",
       "      <td>0.119</td>\n",
       "      <td>0.727</td>\n",
       "      <td>121.999</td>\n",
       "      <td>audio_features</td>\n",
       "      <td>60AMsd1uJ8Gyi8GNcTtD0K</td>\n",
       "      <td>spotify:track:60AMsd1uJ8Gyi8GNcTtD0K</td>\n",
       "      <td>https://api.spotify.com/v1/tracks/60AMsd1uJ8Gy...</td>\n",
       "      <td>https://api.spotify.com/v1/audio-analysis/60AM...</td>\n",
       "      <td>221426</td>\n",
       "      <td>4</td>\n",
       "    </tr>\n",
       "    <tr>\n",
       "      <th>4</th>\n",
       "      <td>Level of Concern</td>\n",
       "      <td>['Dance Time Trio']</td>\n",
       "      <td>0.775</td>\n",
       "      <td>0.784</td>\n",
       "      <td>4</td>\n",
       "      <td>-4.427</td>\n",
       "      <td>0</td>\n",
       "      <td>0.0390</td>\n",
       "      <td>0.3710</td>\n",
       "      <td>0.000278</td>\n",
       "      <td>0.119</td>\n",
       "      <td>0.727</td>\n",
       "      <td>121.999</td>\n",
       "      <td>audio_features</td>\n",
       "      <td>4CYNkY6A0bW6H1mr8MyzHv</td>\n",
       "      <td>spotify:track:4CYNkY6A0bW6H1mr8MyzHv</td>\n",
       "      <td>https://api.spotify.com/v1/tracks/4CYNkY6A0bW6...</td>\n",
       "      <td>https://api.spotify.com/v1/audio-analysis/4CYN...</td>\n",
       "      <td>221426</td>\n",
       "      <td>4</td>\n",
       "    </tr>\n",
       "    <tr>\n",
       "      <th>...</th>\n",
       "      <td>...</td>\n",
       "      <td>...</td>\n",
       "      <td>...</td>\n",
       "      <td>...</td>\n",
       "      <td>...</td>\n",
       "      <td>...</td>\n",
       "      <td>...</td>\n",
       "      <td>...</td>\n",
       "      <td>...</td>\n",
       "      <td>...</td>\n",
       "      <td>...</td>\n",
       "      <td>...</td>\n",
       "      <td>...</td>\n",
       "      <td>...</td>\n",
       "      <td>...</td>\n",
       "      <td>...</td>\n",
       "      <td>...</td>\n",
       "      <td>...</td>\n",
       "      <td>...</td>\n",
       "      <td>...</td>\n",
       "    </tr>\n",
       "    <tr>\n",
       "      <th>4314</th>\n",
       "      <td>['Oscar Peterson Trio']</td>\n",
       "      <td>Too Close for Comfort</td>\n",
       "      <td>0.440</td>\n",
       "      <td>0.626</td>\n",
       "      <td>7</td>\n",
       "      <td>-13.687</td>\n",
       "      <td>0</td>\n",
       "      <td>0.0468</td>\n",
       "      <td>0.5000</td>\n",
       "      <td>0.705000</td>\n",
       "      <td>0.145</td>\n",
       "      <td>0.710</td>\n",
       "      <td>135.281</td>\n",
       "      <td>audio_features</td>\n",
       "      <td>5lw3q2falVkpzoms5pUPqL</td>\n",
       "      <td>spotify:track:5lw3q2falVkpzoms5pUPqL</td>\n",
       "      <td>https://api.spotify.com/v1/tracks/5lw3q2falVkp...</td>\n",
       "      <td>https://api.spotify.com/v1/audio-analysis/5lw3...</td>\n",
       "      <td>256398</td>\n",
       "      <td>4</td>\n",
       "    </tr>\n",
       "    <tr>\n",
       "      <th>4315</th>\n",
       "      <td>['Oscar Peterson Trio']</td>\n",
       "      <td>The Jamf's Are Coming</td>\n",
       "      <td>0.513</td>\n",
       "      <td>0.460</td>\n",
       "      <td>10</td>\n",
       "      <td>-14.150</td>\n",
       "      <td>1</td>\n",
       "      <td>0.0332</td>\n",
       "      <td>0.6490</td>\n",
       "      <td>0.080100</td>\n",
       "      <td>0.105</td>\n",
       "      <td>0.627</td>\n",
       "      <td>100.158</td>\n",
       "      <td>audio_features</td>\n",
       "      <td>1fge2a3ux2AntLhWwPcrfV</td>\n",
       "      <td>spotify:track:1fge2a3ux2AntLhWwPcrfV</td>\n",
       "      <td>https://api.spotify.com/v1/tracks/1fge2a3ux2An...</td>\n",
       "      <td>https://api.spotify.com/v1/audio-analysis/1fge...</td>\n",
       "      <td>335295</td>\n",
       "      <td>4</td>\n",
       "    </tr>\n",
       "    <tr>\n",
       "      <th>4316</th>\n",
       "      <td>['Oscar Peterson Trio']</td>\n",
       "      <td>It Never Entered My Mind</td>\n",
       "      <td>0.474</td>\n",
       "      <td>0.141</td>\n",
       "      <td>0</td>\n",
       "      <td>-20.237</td>\n",
       "      <td>0</td>\n",
       "      <td>0.0411</td>\n",
       "      <td>0.7870</td>\n",
       "      <td>0.785000</td>\n",
       "      <td>0.132</td>\n",
       "      <td>0.100</td>\n",
       "      <td>113.649</td>\n",
       "      <td>audio_features</td>\n",
       "      <td>2QHVYdaGjm5R0BPMEVvW4U</td>\n",
       "      <td>spotify:track:2QHVYdaGjm5R0BPMEVvW4U</td>\n",
       "      <td>https://api.spotify.com/v1/tracks/2QHVYdaGjm5R...</td>\n",
       "      <td>https://api.spotify.com/v1/audio-analysis/2QHV...</td>\n",
       "      <td>357184</td>\n",
       "      <td>5</td>\n",
       "    </tr>\n",
       "    <tr>\n",
       "      <th>4317</th>\n",
       "      <td>['Oscar Peterson Trio']</td>\n",
       "      <td>Carolina Shout</td>\n",
       "      <td>0.552</td>\n",
       "      <td>0.530</td>\n",
       "      <td>2</td>\n",
       "      <td>-13.941</td>\n",
       "      <td>0</td>\n",
       "      <td>0.0411</td>\n",
       "      <td>0.4060</td>\n",
       "      <td>0.048600</td>\n",
       "      <td>0.140</td>\n",
       "      <td>0.853</td>\n",
       "      <td>130.575</td>\n",
       "      <td>audio_features</td>\n",
       "      <td>1Apph1qFG9pZOc7IToVURZ</td>\n",
       "      <td>spotify:track:1Apph1qFG9pZOc7IToVURZ</td>\n",
       "      <td>https://api.spotify.com/v1/tracks/1Apph1qFG9pZ...</td>\n",
       "      <td>https://api.spotify.com/v1/audio-analysis/1App...</td>\n",
       "      <td>196393</td>\n",
       "      <td>4</td>\n",
       "    </tr>\n",
       "    <tr>\n",
       "      <th>4318</th>\n",
       "      <td>['Homo Picnic']</td>\n",
       "      <td>Another day</td>\n",
       "      <td>0.443</td>\n",
       "      <td>0.936</td>\n",
       "      <td>9</td>\n",
       "      <td>-7.114</td>\n",
       "      <td>1</td>\n",
       "      <td>0.0379</td>\n",
       "      <td>0.0708</td>\n",
       "      <td>0.002750</td>\n",
       "      <td>0.127</td>\n",
       "      <td>0.686</td>\n",
       "      <td>101.561</td>\n",
       "      <td>audio_features</td>\n",
       "      <td>584e3bfkwunP9yBk4MiEzf</td>\n",
       "      <td>spotify:track:584e3bfkwunP9yBk4MiEzf</td>\n",
       "      <td>https://api.spotify.com/v1/tracks/584e3bfkwunP...</td>\n",
       "      <td>https://api.spotify.com/v1/audio-analysis/584e...</td>\n",
       "      <td>239627</td>\n",
       "      <td>4</td>\n",
       "    </tr>\n",
       "  </tbody>\n",
       "</table>\n",
       "<p>8616 rows × 20 columns</p>\n",
       "</div>"
      ],
      "text/plain": [
       "                                      song                    artist  \\\n",
       "0                         Level of Concern     ['Twenty One Pilots']   \n",
       "1     Level of Concern - live from outside     ['Twenty One Pilots']   \n",
       "2          level of concern (lofi version)            ['golden era']   \n",
       "3                         Level of Concern         ['Calvin Sparks']   \n",
       "4                         Level of Concern       ['Dance Time Trio']   \n",
       "...                                    ...                       ...   \n",
       "4314               ['Oscar Peterson Trio']     Too Close for Comfort   \n",
       "4315               ['Oscar Peterson Trio']     The Jamf's Are Coming   \n",
       "4316               ['Oscar Peterson Trio']  It Never Entered My Mind   \n",
       "4317               ['Oscar Peterson Trio']            Carolina Shout   \n",
       "4318                       ['Homo Picnic']               Another day   \n",
       "\n",
       "      danceability  energy  key  loudness  mode  speechiness  acousticness  \\\n",
       "0            0.754   0.583    4    -7.340     0       0.0432        0.3200   \n",
       "1            0.734   0.614    4    -5.452     0       0.0477        0.2910   \n",
       "2            0.793   0.369    7   -13.709     1       0.0357        0.2270   \n",
       "3            0.775   0.784    4    -4.427     0       0.0390        0.3710   \n",
       "4            0.775   0.784    4    -4.427     0       0.0390        0.3710   \n",
       "...            ...     ...  ...       ...   ...          ...           ...   \n",
       "4314         0.440   0.626    7   -13.687     0       0.0468        0.5000   \n",
       "4315         0.513   0.460   10   -14.150     1       0.0332        0.6490   \n",
       "4316         0.474   0.141    0   -20.237     0       0.0411        0.7870   \n",
       "4317         0.552   0.530    2   -13.941     0       0.0411        0.4060   \n",
       "4318         0.443   0.936    9    -7.114     1       0.0379        0.0708   \n",
       "\n",
       "      instrumentalness  liveness  valence    tempo            type  \\\n",
       "0             0.000150     0.144    0.770  122.012  audio_features   \n",
       "1             0.000306     0.120    0.636  121.934  audio_features   \n",
       "2             0.844000     0.124    0.400   96.022  audio_features   \n",
       "3             0.000278     0.119    0.727  121.999  audio_features   \n",
       "4             0.000278     0.119    0.727  121.999  audio_features   \n",
       "...                ...       ...      ...      ...             ...   \n",
       "4314          0.705000     0.145    0.710  135.281  audio_features   \n",
       "4315          0.080100     0.105    0.627  100.158  audio_features   \n",
       "4316          0.785000     0.132    0.100  113.649  audio_features   \n",
       "4317          0.048600     0.140    0.853  130.575  audio_features   \n",
       "4318          0.002750     0.127    0.686  101.561  audio_features   \n",
       "\n",
       "                          id                                   uri  \\\n",
       "0     6xZ4Q2k2ompmDppyeESIY8  spotify:track:6xZ4Q2k2ompmDppyeESIY8   \n",
       "1     4zZyTwwwZFJhRe0oBElIia  spotify:track:4zZyTwwwZFJhRe0oBElIia   \n",
       "2     2mJqy8OwFfnciPhdPPBcE9  spotify:track:2mJqy8OwFfnciPhdPPBcE9   \n",
       "3     60AMsd1uJ8Gyi8GNcTtD0K  spotify:track:60AMsd1uJ8Gyi8GNcTtD0K   \n",
       "4     4CYNkY6A0bW6H1mr8MyzHv  spotify:track:4CYNkY6A0bW6H1mr8MyzHv   \n",
       "...                      ...                                   ...   \n",
       "4314  5lw3q2falVkpzoms5pUPqL  spotify:track:5lw3q2falVkpzoms5pUPqL   \n",
       "4315  1fge2a3ux2AntLhWwPcrfV  spotify:track:1fge2a3ux2AntLhWwPcrfV   \n",
       "4316  2QHVYdaGjm5R0BPMEVvW4U  spotify:track:2QHVYdaGjm5R0BPMEVvW4U   \n",
       "4317  1Apph1qFG9pZOc7IToVURZ  spotify:track:1Apph1qFG9pZOc7IToVURZ   \n",
       "4318  584e3bfkwunP9yBk4MiEzf  spotify:track:584e3bfkwunP9yBk4MiEzf   \n",
       "\n",
       "                                             track_href  \\\n",
       "0     https://api.spotify.com/v1/tracks/6xZ4Q2k2ompm...   \n",
       "1     https://api.spotify.com/v1/tracks/4zZyTwwwZFJh...   \n",
       "2     https://api.spotify.com/v1/tracks/2mJqy8OwFfnc...   \n",
       "3     https://api.spotify.com/v1/tracks/60AMsd1uJ8Gy...   \n",
       "4     https://api.spotify.com/v1/tracks/4CYNkY6A0bW6...   \n",
       "...                                                 ...   \n",
       "4314  https://api.spotify.com/v1/tracks/5lw3q2falVkp...   \n",
       "4315  https://api.spotify.com/v1/tracks/1fge2a3ux2An...   \n",
       "4316  https://api.spotify.com/v1/tracks/2QHVYdaGjm5R...   \n",
       "4317  https://api.spotify.com/v1/tracks/1Apph1qFG9pZ...   \n",
       "4318  https://api.spotify.com/v1/tracks/584e3bfkwunP...   \n",
       "\n",
       "                                           analysis_url  duration_ms  \\\n",
       "0     https://api.spotify.com/v1/audio-analysis/6xZ4...       220051   \n",
       "1     https://api.spotify.com/v1/audio-analysis/4zZy...       222383   \n",
       "2     https://api.spotify.com/v1/audio-analysis/2mJq...       169627   \n",
       "3     https://api.spotify.com/v1/audio-analysis/60AM...       221426   \n",
       "4     https://api.spotify.com/v1/audio-analysis/4CYN...       221426   \n",
       "...                                                 ...          ...   \n",
       "4314  https://api.spotify.com/v1/audio-analysis/5lw3...       256398   \n",
       "4315  https://api.spotify.com/v1/audio-analysis/1fge...       335295   \n",
       "4316  https://api.spotify.com/v1/audio-analysis/2QHV...       357184   \n",
       "4317  https://api.spotify.com/v1/audio-analysis/1App...       196393   \n",
       "4318  https://api.spotify.com/v1/audio-analysis/584e...       239627   \n",
       "\n",
       "      time_signature  \n",
       "0                  4  \n",
       "1                  4  \n",
       "2                  4  \n",
       "3                  4  \n",
       "4                  4  \n",
       "...              ...  \n",
       "4314               4  \n",
       "4315               4  \n",
       "4316               5  \n",
       "4317               4  \n",
       "4318               4  \n",
       "\n",
       "[8616 rows x 20 columns]"
      ]
     },
     "execution_count": 8,
     "metadata": {},
     "output_type": "execute_result"
    }
   ],
   "source": [
    "playlist"
   ]
  },
  {
   "cell_type": "markdown",
   "metadata": {},
   "source": [
    "## Create Feature DataFrame:"
   ]
  },
  {
   "cell_type": "code",
   "execution_count": 9,
   "metadata": {},
   "outputs": [
    {
     "data": {
      "text/plain": [
       "Index(['song', 'artist', 'danceability', 'energy', 'key', 'loudness', 'mode',\n",
       "       'speechiness', 'acousticness', 'instrumentalness', 'liveness',\n",
       "       'valence', 'tempo', 'type', 'id', 'uri', 'track_href', 'analysis_url',\n",
       "       'duration_ms', 'time_signature'],\n",
       "      dtype='object')"
      ]
     },
     "execution_count": 9,
     "metadata": {},
     "output_type": "execute_result"
    }
   ],
   "source": [
    "playlist.columns"
   ]
  },
  {
   "cell_type": "code",
   "execution_count": 10,
   "metadata": {},
   "outputs": [],
   "source": [
    "feature = playlist.drop(['song','artist','type','id','uri','track_href','analysis_url','duration_ms','time_signature'],axis=1 )"
   ]
  },
  {
   "cell_type": "code",
   "execution_count": 11,
   "metadata": {},
   "outputs": [
    {
     "data": {
      "text/plain": [
       "Index(['danceability', 'energy', 'key', 'loudness', 'mode', 'speechiness',\n",
       "       'acousticness', 'instrumentalness', 'liveness', 'valence', 'tempo'],\n",
       "      dtype='object')"
      ]
     },
     "execution_count": 11,
     "metadata": {},
     "output_type": "execute_result"
    }
   ],
   "source": [
    "feature.columns"
   ]
  },
  {
   "cell_type": "markdown",
   "metadata": {},
   "source": [
    "## Histograms of all features:"
   ]
  },
  {
   "cell_type": "code",
   "execution_count": 12,
   "metadata": {},
   "outputs": [
    {
     "data": {
      "text/plain": [
       "array([[<matplotlib.axes._subplots.AxesSubplot object at 0x7fedb3e02f10>,\n",
       "        <matplotlib.axes._subplots.AxesSubplot object at 0x7fedb3efe650>,\n",
       "        <matplotlib.axes._subplots.AxesSubplot object at 0x7fedb3f34d10>],\n",
       "       [<matplotlib.axes._subplots.AxesSubplot object at 0x7fedb3f74550>,\n",
       "        <matplotlib.axes._subplots.AxesSubplot object at 0x7fedb3fa7d50>,\n",
       "        <matplotlib.axes._subplots.AxesSubplot object at 0x7fedb3fe7590>],\n",
       "       [<matplotlib.axes._subplots.AxesSubplot object at 0x7fedb4019d90>,\n",
       "        <matplotlib.axes._subplots.AxesSubplot object at 0x7fedb405b5d0>,\n",
       "        <matplotlib.axes._subplots.AxesSubplot object at 0x7fedb4067150>],\n",
       "       [<matplotlib.axes._subplots.AxesSubplot object at 0x7fedb4098ad0>,\n",
       "        <matplotlib.axes._subplots.AxesSubplot object at 0x7fedb4102e10>,\n",
       "        <matplotlib.axes._subplots.AxesSubplot object at 0x7fedb4143650>]],\n",
       "      dtype=object)"
      ]
     },
     "execution_count": 12,
     "metadata": {},
     "output_type": "execute_result"
    },
    {
     "data": {
      "image/png": "[encoded data removed]",
      "text/plain": [
       "<Figure size 864x720 with 12 Axes>"
      ]
     },
     "metadata": {
      "needs_background": "light"
     },
     "output_type": "display_data"
    }
   ],
   "source": [
    "feature.hist(xlabelsize=8, figsize=(12,10))"
   ]
  },
  {
   "cell_type": "markdown",
   "metadata": {},
   "source": [
    "## Create Clusters:"
   ]
  },
  {
   "cell_type": "code",
   "execution_count": 12,
   "metadata": {},
   "outputs": [],
   "source": [
    "from sklearn.cluster import KMeans"
   ]
  },
  {
   "cell_type": "code",
   "execution_count": 13,
   "metadata": {},
   "outputs": [],
   "source": [
    "from sklearn.preprocessing import StandardScaler"
   ]
  },
  {
   "cell_type": "code",
   "execution_count": 14,
   "metadata": {},
   "outputs": [],
   "source": [
    "scaler = StandardScaler()"
   ]
  },
  {
   "cell_type": "code",
   "execution_count": 15,
   "metadata": {},
   "outputs": [],
   "source": [
    "audio_feature = scaler.fit_transform(feature)"
   ]
  },
  {
   "cell_type": "code",
   "execution_count": 16,
   "metadata": {},
   "outputs": [
    {
     "data": {
      "text/html": [
       "<div>\n",
       "<style scoped>\n",
       "    .dataframe tbody tr th:only-of-type {\n",
       "        vertical-align: middle;\n",
       "    }\n",
       "\n",
       "    .dataframe tbody tr th {\n",
       "        vertical-align: top;\n",
       "    }\n",
       "\n",
       "    .dataframe thead th {\n",
       "        text-align: right;\n",
       "    }\n",
       "</style>\n",
       "<table border=\"1\" class=\"dataframe\">\n",
       "  <thead>\n",
       "    <tr style=\"text-align: right;\">\n",
       "      <th></th>\n",
       "      <th>0</th>\n",
       "      <th>1</th>\n",
       "      <th>2</th>\n",
       "      <th>3</th>\n",
       "      <th>4</th>\n",
       "      <th>5</th>\n",
       "      <th>6</th>\n",
       "      <th>7</th>\n",
       "      <th>8</th>\n",
       "      <th>9</th>\n",
       "      <th>10</th>\n",
       "    </tr>\n",
       "  </thead>\n",
       "  <tbody>\n",
       "    <tr>\n",
       "      <th>0</th>\n",
       "      <td>0.919470</td>\n",
       "      <td>-0.128575</td>\n",
       "      <td>-0.351741</td>\n",
       "      <td>0.228564</td>\n",
       "      <td>-1.254077</td>\n",
       "      <td>-0.488920</td>\n",
       "      <td>0.137220</td>\n",
       "      <td>-0.527161</td>\n",
       "      <td>-0.275505</td>\n",
       "      <td>1.249026</td>\n",
       "      <td>0.024317</td>\n",
       "    </tr>\n",
       "    <tr>\n",
       "      <th>1</th>\n",
       "      <td>0.802375</td>\n",
       "      <td>-0.002176</td>\n",
       "      <td>-0.351741</td>\n",
       "      <td>0.572494</td>\n",
       "      <td>-1.254077</td>\n",
       "      <td>-0.444831</td>\n",
       "      <td>0.046120</td>\n",
       "      <td>-0.526671</td>\n",
       "      <td>-0.433619</td>\n",
       "      <td>0.704932</td>\n",
       "      <td>0.021608</td>\n",
       "    </tr>\n",
       "    <tr>\n",
       "      <th>2</th>\n",
       "      <td>1.147805</td>\n",
       "      <td>-1.001132</td>\n",
       "      <td>0.484210</td>\n",
       "      <td>-0.931655</td>\n",
       "      <td>0.797399</td>\n",
       "      <td>-0.562402</td>\n",
       "      <td>-0.154926</td>\n",
       "      <td>2.122920</td>\n",
       "      <td>-0.407266</td>\n",
       "      <td>-0.253322</td>\n",
       "      <td>-0.878456</td>\n",
       "    </tr>\n",
       "    <tr>\n",
       "      <th>3</th>\n",
       "      <td>1.042419</td>\n",
       "      <td>0.690977</td>\n",
       "      <td>-0.351741</td>\n",
       "      <td>0.759215</td>\n",
       "      <td>-1.254077</td>\n",
       "      <td>-0.530070</td>\n",
       "      <td>0.297429</td>\n",
       "      <td>-0.526759</td>\n",
       "      <td>-0.440207</td>\n",
       "      <td>1.074429</td>\n",
       "      <td>0.023866</td>\n",
       "    </tr>\n",
       "    <tr>\n",
       "      <th>4</th>\n",
       "      <td>1.042419</td>\n",
       "      <td>0.690977</td>\n",
       "      <td>-0.351741</td>\n",
       "      <td>0.759215</td>\n",
       "      <td>-1.254077</td>\n",
       "      <td>-0.530070</td>\n",
       "      <td>0.297429</td>\n",
       "      <td>-0.526759</td>\n",
       "      <td>-0.440207</td>\n",
       "      <td>1.074429</td>\n",
       "      <td>0.023866</td>\n",
       "    </tr>\n",
       "    <tr>\n",
       "      <th>...</th>\n",
       "      <td>...</td>\n",
       "      <td>...</td>\n",
       "      <td>...</td>\n",
       "      <td>...</td>\n",
       "      <td>...</td>\n",
       "      <td>...</td>\n",
       "      <td>...</td>\n",
       "      <td>...</td>\n",
       "      <td>...</td>\n",
       "      <td>...</td>\n",
       "      <td>...</td>\n",
       "    </tr>\n",
       "    <tr>\n",
       "      <th>8611</th>\n",
       "      <td>-0.918921</td>\n",
       "      <td>0.046752</td>\n",
       "      <td>0.484210</td>\n",
       "      <td>-0.927648</td>\n",
       "      <td>-1.254077</td>\n",
       "      <td>-0.453649</td>\n",
       "      <td>0.702664</td>\n",
       "      <td>1.686395</td>\n",
       "      <td>-0.268917</td>\n",
       "      <td>1.005402</td>\n",
       "      <td>0.485222</td>\n",
       "    </tr>\n",
       "    <tr>\n",
       "      <th>8612</th>\n",
       "      <td>-0.491525</td>\n",
       "      <td>-0.630091</td>\n",
       "      <td>1.320161</td>\n",
       "      <td>-1.011991</td>\n",
       "      <td>0.797399</td>\n",
       "      <td>-0.586896</td>\n",
       "      <td>1.170726</td>\n",
       "      <td>-0.276081</td>\n",
       "      <td>-0.532440</td>\n",
       "      <td>0.668389</td>\n",
       "      <td>-0.734790</td>\n",
       "    </tr>\n",
       "    <tr>\n",
       "      <th>8613</th>\n",
       "      <td>-0.719860</td>\n",
       "      <td>-1.930773</td>\n",
       "      <td>-1.466342</td>\n",
       "      <td>-2.120839</td>\n",
       "      <td>-1.254077</td>\n",
       "      <td>-0.509495</td>\n",
       "      <td>1.604233</td>\n",
       "      <td>1.937633</td>\n",
       "      <td>-0.354562</td>\n",
       "      <td>-1.471442</td>\n",
       "      <td>-0.266175</td>\n",
       "    </tr>\n",
       "    <tr>\n",
       "      <th>8614</th>\n",
       "      <td>-0.263190</td>\n",
       "      <td>-0.344676</td>\n",
       "      <td>-0.909041</td>\n",
       "      <td>-0.973918</td>\n",
       "      <td>-1.254077</td>\n",
       "      <td>-0.509495</td>\n",
       "      <td>0.407376</td>\n",
       "      <td>-0.375005</td>\n",
       "      <td>-0.301857</td>\n",
       "      <td>1.586039</td>\n",
       "      <td>0.321757</td>\n",
       "    </tr>\n",
       "    <tr>\n",
       "      <th>8615</th>\n",
       "      <td>-0.901357</td>\n",
       "      <td>1.310737</td>\n",
       "      <td>1.041510</td>\n",
       "      <td>0.269733</td>\n",
       "      <td>0.797399</td>\n",
       "      <td>-0.540847</td>\n",
       "      <td>-0.645606</td>\n",
       "      <td>-0.518995</td>\n",
       "      <td>-0.387502</td>\n",
       "      <td>0.907952</td>\n",
       "      <td>-0.686057</td>\n",
       "    </tr>\n",
       "  </tbody>\n",
       "</table>\n",
       "<p>8616 rows × 11 columns</p>\n",
       "</div>"
      ],
      "text/plain": [
       "             0         1         2         3         4         5         6  \\\n",
       "0     0.919470 -0.128575 -0.351741  0.228564 -1.254077 -0.488920  0.137220   \n",
       "1     0.802375 -0.002176 -0.351741  0.572494 -1.254077 -0.444831  0.046120   \n",
       "2     1.147805 -1.001132  0.484210 -0.931655  0.797399 -0.562402 -0.154926   \n",
       "3     1.042419  0.690977 -0.351741  0.759215 -1.254077 -0.530070  0.297429   \n",
       "4     1.042419  0.690977 -0.351741  0.759215 -1.254077 -0.530070  0.297429   \n",
       "...        ...       ...       ...       ...       ...       ...       ...   \n",
       "8611 -0.918921  0.046752  0.484210 -0.927648 -1.254077 -0.453649  0.702664   \n",
       "8612 -0.491525 -0.630091  1.320161 -1.011991  0.797399 -0.586896  1.170726   \n",
       "8613 -0.719860 -1.930773 -1.466342 -2.120839 -1.254077 -0.509495  1.604233   \n",
       "8614 -0.263190 -0.344676 -0.909041 -0.973918 -1.254077 -0.509495  0.407376   \n",
       "8615 -0.901357  1.310737  1.041510  0.269733  0.797399 -0.540847 -0.645606   \n",
       "\n",
       "             7         8         9        10  \n",
       "0    -0.527161 -0.275505  1.249026  0.024317  \n",
       "1    -0.526671 -0.433619  0.704932  0.021608  \n",
       "2     2.122920 -0.407266 -0.253322 -0.878456  \n",
       "3    -0.526759 -0.440207  1.074429  0.023866  \n",
       "4    -0.526759 -0.440207  1.074429  0.023866  \n",
       "...        ...       ...       ...       ...  \n",
       "8611  1.686395 -0.268917  1.005402  0.485222  \n",
       "8612 -0.276081 -0.532440  0.668389 -0.734790  \n",
       "8613  1.937633 -0.354562 -1.471442 -0.266175  \n",
       "8614 -0.375005 -0.301857  1.586039  0.321757  \n",
       "8615 -0.518995 -0.387502  0.907952 -0.686057  \n",
       "\n",
       "[8616 rows x 11 columns]"
      ]
     },
     "execution_count": 16,
     "metadata": {},
     "output_type": "execute_result"
    }
   ],
   "source": [
    "pd.DataFrame(audio_feature)"
   ]
  },
  {
   "cell_type": "code",
   "execution_count": 17,
   "metadata": {},
   "outputs": [],
   "source": [
    "kmeans = KMeans()"
   ]
  },
  {
   "cell_type": "code",
   "execution_count": 18,
   "metadata": {},
   "outputs": [
    {
     "data": {
      "text/plain": [
       "KMeans()"
      ]
     },
     "execution_count": 18,
     "metadata": {},
     "output_type": "execute_result"
    }
   ],
   "source": [
    "kmeans.fit(audio_feature)"
   ]
  },
  {
   "cell_type": "code",
   "execution_count": 19,
   "metadata": {},
   "outputs": [
    {
     "data": {
      "text/plain": [
       "8616"
      ]
     },
     "execution_count": 19,
     "metadata": {},
     "output_type": "execute_result"
    }
   ],
   "source": [
    "clusters = kmeans.predict(audio_feature)\n",
    "\n",
    "len(clusters)"
   ]
  },
  {
   "cell_type": "code",
   "execution_count": 20,
   "metadata": {},
   "outputs": [
    {
     "data": {
      "text/plain": [
       "4    1912\n",
       "6    1819\n",
       "7    1158\n",
       "3    1116\n",
       "2     773\n",
       "5     703\n",
       "0     672\n",
       "1     463\n",
       "dtype: int64"
      ]
     },
     "execution_count": 20,
     "metadata": {},
     "output_type": "execute_result"
    }
   ],
   "source": [
    "pd.Series(clusters).value_counts()"
   ]
  },
  {
   "cell_type": "markdown",
   "metadata": {},
   "source": [
    "## Add clusters to playlist:"
   ]
  },
  {
   "cell_type": "code",
   "execution_count": 21,
   "metadata": {},
   "outputs": [],
   "source": [
    "playlist[\"clusters\"] = clusters"
   ]
  },
  {
   "cell_type": "code",
   "execution_count": 26,
   "metadata": {},
   "outputs": [
    {
     "data": {
      "text/plain": [
       "Index(['song', 'artist', 'danceability', 'energy', 'key', 'loudness', 'mode',\n",
       "       'speechiness', 'acousticness', 'instrumentalness', 'liveness',\n",
       "       'valence', 'tempo', 'type', 'id', 'uri', 'track_href', 'analysis_url',\n",
       "       'duration_ms', 'time_signature', 'clusters'],\n",
       "      dtype='object')"
      ]
     },
     "execution_count": 26,
     "metadata": {},
     "output_type": "execute_result"
    }
   ],
   "source": [
    "playlist.columns"
   ]
  },
  {
   "cell_type": "code",
   "execution_count": null,
   "metadata": {},
   "outputs": [],
   "source": []
  },
  {
   "cell_type": "code",
   "execution_count": 23,
   "metadata": {},
   "outputs": [],
   "source": [
    "playlist.to_csv(\"final_list.csv\")"
   ]
  },
  {
   "cell_type": "code",
   "execution_count": 24,
   "metadata": {},
   "outputs": [],
   "source": [
    "import numpy as np\n",
    "import spotipy\n",
    "from spotipy.oauth2 import SpotifyClientCredentials"
   ]
  },
  {
   "cell_type": "code",
   "execution_count": 25,
   "metadata": {},
   "outputs": [],
   "source": [
    "spotify = spotipy.Spotify(client_credentials_manager=SpotifyClientCredentials(\n",
    "client_id = \"5b1d2c1994a5431e8005aa884c463f4a\",\n",
    "client_secret = \"cc7d916fce5749e2a548b3f88f8eb793\"))"
   ]
  },
  {
   "cell_type": "code",
   "execution_count": null,
   "metadata": {},
   "outputs": [],
   "source": []
  },
  {
   "cell_type": "code",
   "execution_count": null,
   "metadata": {},
   "outputs": [],
   "source": []
  }
 ],
 "metadata": {
  "kernelspec": {
   "display_name": "Python 3",
   "language": "python",
   "name": "python3"
  },
  "language_info": {
   "codemirror_mode": {
    "name": "ipython",
    "version": 3
   },
   "file_extension": ".py",
   "mimetype": "text/x-python",
   "name": "python",
   "nbconvert_exporter": "python",
   "pygments_lexer": "ipython3",
   "version": "3.7.6"
  }
 },
 "nbformat": 4,
 "nbformat_minor": 4
}
